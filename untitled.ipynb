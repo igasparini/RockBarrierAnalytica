{
 "cells": [
  {
   "cell_type": "code",
   "execution_count": 1,
   "metadata": {},
   "outputs": [
    {
     "name": "stdout",
     "output_type": "stream",
     "text": [
      "[Taichi] version 1.6.0, llvm 15.0.1, commit f1c6fbbd, win, python 3.11.3\n",
      "[Taichi] Starting on arch=vulkan\n"
     ]
    }
   ],
   "source": [
    "import numpy as np\n",
    "import math\n",
    "import taichi as ti\n",
    "ti.init(arch=ti.vulkan)  # Alternatively, ti.init(arch=ti.cpu)\n",
    "\n",
    "from components_properties import net_width, net_height\n",
    "from components_init import *\n",
    "from rendering import *\n",
    "\n",
    "# Simulation parameters\n",
    "dt = 1e-2 / max(net_nodes_width, net_nodes_height) #8e-3\n",
    "substeps = int(1 / 60 // dt) #1/120\n",
    "gravity = ti.Vector([0, -9.8, 0])\n",
    "\n",
    "init_mesh_indices()\n",
    "\n",
    "@ti.kernel\n",
    "def init_points():\n",
    "    # Ropes\n",
    "    # Lower bearing rope\n",
    "    init_rope(0, 20, ti.Vector([-7.5, 0.0, 0.0]), ti.Vector([1, 0, 0]))\n",
    "    # Upper bearing rope\n",
    "    init_rope(1, 20, ti.Vector([-7.5, 0.0, net_height]), ti.Vector([1, 0, 0]))\n",
    "\n",
    "    # Nets\n",
    "    init_net()\n",
    "\n",
    "    # Shackles\n",
    "    init_shackles()\n",
    "\n",
    "    # Ball\n",
    "    x_ball[0] = ti.Vector([2.5, 15, 1.5])\n",
    "    v_ball[0] = ti.Vector([0.0, 0.0, 0.0])\n",
    "\n",
    "@ti.kernel\n",
    "def update_vertices():\n",
    "    for i, j in ti.ndrange(net_nodes_width, net_nodes_height):\n",
    "        net_vertices_1[i * net_nodes_height + j] = x_net[0, i, j]\n",
    "        net_vertices_2[i * net_nodes_height + j] = x_net[1, i, j]\n",
    "        net_vertices_3[i * net_nodes_height + j] = x_net[2, i, j]\n",
    "\n",
    "init_points()\n",
    "update_vertices()\n",
    "x_shackle_reshaped = ti.reshape(x_shackle, (-1, 3))"
   ]
  },
  {
   "cell_type": "code",
   "execution_count": 2,
   "metadata": {},
   "outputs": [
    {
     "ename": "TaichiCompilationError",
     "evalue": "\nFile \"c:\\Users\\gii2\\AppData\\Local\\anaconda3\\envs\\SSSN\\Lib\\site-packages\\taichi\\ui\\staging_buffer.py\", line 63, in copy_all_to_vbo:\n    for i in vertex:\n    ^^^^^^^^^^^^^^^^\nTraceback (most recent call last):\n  File \"c:\\Users\\gii2\\AppData\\Local\\anaconda3\\envs\\SSSN\\Lib\\site-packages\\taichi\\lang\\ast\\ast_transformer_utils.py\", line 27, in __call__\n    return method(ctx, node)\n           ^^^^^^^^^^^^^^^^^\n  File \"c:\\Users\\gii2\\AppData\\Local\\anaconda3\\envs\\SSSN\\Lib\\site-packages\\taichi\\lang\\ast\\ast_transformer.py\", line 1336, in build_For\n    return ASTTransformer.build_struct_for(ctx, node, is_grouped=False)\n           ^^^^^^^^^^^^^^^^^^^^^^^^^^^^^^^^^^^^^^^^^^^^^^^^^^^^^^^^^^^^\n  File \"c:\\Users\\gii2\\AppData\\Local\\anaconda3\\envs\\SSSN\\Lib\\site-packages\\taichi\\lang\\ast\\ast_transformer.py\", line 1237, in build_struct_for\n    impl.begin_frontend_struct_for(ctx.ast_builder, expr_group, loop_var)\n  File \"c:\\Users\\gii2\\AppData\\Local\\anaconda3\\envs\\SSSN\\Lib\\site-packages\\taichi\\lang\\impl.py\", line 117, in begin_frontend_struct_for\n    raise IndexError(\nIndexError: Number of struct-for indices does not match loop variable dimensionality (1 != 3). Maybe you wanted to use \"for I in ti.grouped(x)\" to group all indices into a single vector I?\n",
     "output_type": "error",
     "traceback": [
      "\u001b[1;31m---------------------------------------------------------------------------\u001b[0m",
      "\u001b[1;31mTaichiCompilationError\u001b[0m                    Traceback (most recent call last)",
      "Cell \u001b[1;32mIn[2], line 55\u001b[0m\n\u001b[0;32m     42\u001b[0m scene\u001b[39m.\u001b[39mparticles(v_ball, radius\u001b[39m=\u001b[39m\u001b[39m1\u001b[39m, color\u001b[39m=\u001b[39m(\u001b[39m1\u001b[39m, \u001b[39m0\u001b[39m, \u001b[39m0\u001b[39m))\n\u001b[0;32m     43\u001b[0m \u001b[39m# # For each rope\u001b[39;00m\n\u001b[0;32m     44\u001b[0m \u001b[39m# for rid in range(max_ropes):\u001b[39;00m\n\u001b[0;32m     45\u001b[0m \u001b[39m#     # Flatten rope positions to a 1D array\u001b[39;00m\n\u001b[1;32m   (...)\u001b[0m\n\u001b[0;32m     53\u001b[0m \u001b[39m#     # Render the rope\u001b[39;00m\n\u001b[0;32m     54\u001b[0m \u001b[39m#     scene.lines(x_rope_flat, color=(0.5, 0.5, 0.5), width=2)\u001b[39;00m\n\u001b[1;32m---> 55\u001b[0m scene\u001b[39m.\u001b[39;49mparticles(x_shackle, radius\u001b[39m=\u001b[39;49m\u001b[39m0.05\u001b[39;49m, color\u001b[39m=\u001b[39;49m(\u001b[39m0\u001b[39;49m, \u001b[39m0\u001b[39;49m, \u001b[39m1\u001b[39;49m))\n\u001b[0;32m     56\u001b[0m canvas\u001b[39m.\u001b[39mscene(scene)\n\u001b[0;32m     57\u001b[0m window\u001b[39m.\u001b[39mshow()\n",
      "File \u001b[1;32mc:\\Users\\gii2\\AppData\\Local\\anaconda3\\envs\\SSSN\\Lib\\site-packages\\taichi\\ui\\scene.py:387\u001b[0m, in \u001b[0;36mScene.particles\u001b[1;34m(self, centers, radius, color, per_vertex_color, index_offset, index_count)\u001b[0m\n\u001b[0;32m    385\u001b[0m     index_count \u001b[39m=\u001b[39m centers\u001b[39m.\u001b[39mshape[\u001b[39m0\u001b[39m]\n\u001b[0;32m    386\u001b[0m vbo \u001b[39m=\u001b[39m get_vbo_field(centers)\n\u001b[1;32m--> 387\u001b[0m copy_all_to_vbo(vbo, centers, \u001b[39m0\u001b[39;49m, \u001b[39m0\u001b[39;49m, per_vertex_color \u001b[39mif\u001b[39;49;00m has_per_vertex_color \u001b[39melse\u001b[39;49;00m \u001b[39m0\u001b[39;49m)\n\u001b[0;32m    388\u001b[0m vbo_info \u001b[39m=\u001b[39m get_field_info(vbo)\n\u001b[0;32m    389\u001b[0m \u001b[39mself\u001b[39m\u001b[39m.\u001b[39mscene\u001b[39m.\u001b[39mparticles(vbo_info, has_per_vertex_color, color, radius, index_count, index_offset)\n",
      "File \u001b[1;32mc:\\Users\\gii2\\AppData\\Local\\anaconda3\\envs\\SSSN\\Lib\\site-packages\\taichi\\lang\\kernel_impl.py:976\u001b[0m, in \u001b[0;36m_kernel_impl.<locals>.wrapped\u001b[1;34m(*args, **kwargs)\u001b[0m\n\u001b[0;32m    974\u001b[0m     \u001b[39mreturn\u001b[39;00m primal(\u001b[39m*\u001b[39margs, \u001b[39m*\u001b[39m\u001b[39m*\u001b[39mkwargs)\n\u001b[0;32m    975\u001b[0m \u001b[39mexcept\u001b[39;00m (TaichiCompilationError, TaichiRuntimeError) \u001b[39mas\u001b[39;00m e:\n\u001b[1;32m--> 976\u001b[0m     \u001b[39mraise\u001b[39;00m \u001b[39mtype\u001b[39m(e)(\u001b[39m\"\u001b[39m\u001b[39m\\n\u001b[39;00m\u001b[39m\"\u001b[39m \u001b[39m+\u001b[39m \u001b[39mstr\u001b[39m(e)) \u001b[39mfrom\u001b[39;00m \u001b[39mNone\u001b[39;00m\n",
      "\u001b[1;31mTaichiCompilationError\u001b[0m: \nFile \"c:\\Users\\gii2\\AppData\\Local\\anaconda3\\envs\\SSSN\\Lib\\site-packages\\taichi\\ui\\staging_buffer.py\", line 63, in copy_all_to_vbo:\n    for i in vertex:\n    ^^^^^^^^^^^^^^^^\nTraceback (most recent call last):\n  File \"c:\\Users\\gii2\\AppData\\Local\\anaconda3\\envs\\SSSN\\Lib\\site-packages\\taichi\\lang\\ast\\ast_transformer_utils.py\", line 27, in __call__\n    return method(ctx, node)\n           ^^^^^^^^^^^^^^^^^\n  File \"c:\\Users\\gii2\\AppData\\Local\\anaconda3\\envs\\SSSN\\Lib\\site-packages\\taichi\\lang\\ast\\ast_transformer.py\", line 1336, in build_For\n    return ASTTransformer.build_struct_for(ctx, node, is_grouped=False)\n           ^^^^^^^^^^^^^^^^^^^^^^^^^^^^^^^^^^^^^^^^^^^^^^^^^^^^^^^^^^^^\n  File \"c:\\Users\\gii2\\AppData\\Local\\anaconda3\\envs\\SSSN\\Lib\\site-packages\\taichi\\lang\\ast\\ast_transformer.py\", line 1237, in build_struct_for\n    impl.begin_frontend_struct_for(ctx.ast_builder, expr_group, loop_var)\n  File \"c:\\Users\\gii2\\AppData\\Local\\anaconda3\\envs\\SSSN\\Lib\\site-packages\\taichi\\lang\\impl.py\", line 117, in begin_frontend_struct_for\n    raise IndexError(\nIndexError: Number of struct-for indices does not match loop variable dimensionality (1 != 3). Maybe you wanted to use \"for I in ti.grouped(x)\" to group all indices into a single vector I?\n"
     ]
    }
   ],
   "source": [
    "# Scene rendering\n",
    "window = ti.ui.Window(\"Taichi Cloth Simulation on GGUI\", (1024, 1024), vsync=True)\n",
    "canvas = window.get_canvas()\n",
    "#canvas.set_background_color((1, 1, 1))\n",
    "scene = ti.ui.Scene()\n",
    "camera = ti.ui.Camera()\n",
    "current_t = 0.0\n",
    "\n",
    "while window.running:\n",
    "    # if current_t > 7.5:\n",
    "    #     # Reset\n",
    "    #     init_points()\n",
    "    #     current_t = 0\n",
    "\n",
    "    for i in range(substeps):\n",
    "        #substep()\n",
    "        current_t += dt\n",
    "    #update_boundary_nodes()\n",
    "    #update_vertices()\n",
    "\n",
    "    camera.position(10, 10, 40)\n",
    "    camera.lookat(2.5, 0.0, 0)\n",
    "    scene.set_camera(camera)\n",
    "\n",
    "    scene.point_light(pos=(0, 1, 2), color=(1, 1, 1))\n",
    "    scene.ambient_light((0.5, 0.5, 0.5))\n",
    "    scene.mesh(net_vertices_1,\n",
    "               indices=net_indices,\n",
    "               per_vertex_color=net_colors,\n",
    "               two_sided=True)\n",
    "    scene.mesh(net_vertices_2,\n",
    "               indices=net_indices,\n",
    "               per_vertex_color=net_colors,\n",
    "               two_sided=True)\n",
    "    scene.mesh(net_vertices_3,\n",
    "               indices=net_indices,\n",
    "               per_vertex_color=net_colors,\n",
    "               two_sided=True)\n",
    "\n",
    "    # Draw a smaller ball to avoid visual penetration\n",
    "    scene.particles(x_ball, radius=ball_radius * 0.95, color=(1, 0, 0))\n",
    "    scene.particles(v_ball, radius=1, color=(1, 0, 0))\n",
    "    # # For each rope\n",
    "    # for rid in range(max_ropes):\n",
    "    #     # Flatten rope positions to a 1D array\n",
    "    #     flatten_rope_positions(rid, flattened_positions_taichi)\n",
    "        \n",
    "    #     # Convert the 1D numpy array back to a Taichi field\n",
    "    #     x_rope_flat = ti.Vector.field(3, dtype=ti.f32, shape=(num_elements[rid]))\n",
    "    #     for i in range(num_elements[rid]):\n",
    "    #         x_rope_flat[i] = ti.Vector([flattened_positions[i * 3], flattened_positions[i * 3 + 1], flattened_positions[i * 3 + 2]])\n",
    "\n",
    "    #     # Render the rope\n",
    "    #     scene.lines(x_rope_flat, color=(0.5, 0.5, 0.5), width=2)\n",
    "    scene.particles(x_shackle_reshaped, radius=0.05, color=(0, 0, 1))\n",
    "    canvas.scene(scene)\n",
    "    window.show()"
   ]
  }
 ],
 "metadata": {
  "kernelspec": {
   "display_name": "SSSN",
   "language": "python",
   "name": "python3"
  },
  "language_info": {
   "codemirror_mode": {
    "name": "ipython",
    "version": 3
   },
   "file_extension": ".py",
   "mimetype": "text/x-python",
   "name": "python",
   "nbconvert_exporter": "python",
   "pygments_lexer": "ipython3",
   "version": "3.11.3"
  },
  "orig_nbformat": 4
 },
 "nbformat": 4,
 "nbformat_minor": 2
}
