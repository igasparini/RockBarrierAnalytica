{
 "cells": [
  {
   "cell_type": "code",
   "execution_count": 1,
   "metadata": {},
   "outputs": [
    {
     "name": "stdout",
     "output_type": "stream",
     "text": [
      "[Taichi] version 1.6.0, llvm 15.0.1, commit f1c6fbbd, win, python 3.11.3\n",
      "[Taichi] Starting on arch=vulkan\n"
     ]
    }
   ],
   "source": [
    "import numpy as np\n",
    "import math\n",
    "import taichi as ti\n",
    "ti.init(arch=ti.vulkan)  # Alternatively, ti.init(arch=ti.cpu)\n",
    "\n",
    "from components_properties import net_width, net_height, beta\n",
    "from components_init import *\n",
    "from rendering import *\n",
    "\n",
    "# Simulation parameters\n",
    "dt = 1e-2 / max(net_nodes_width, net_nodes_height) #8e-3\n",
    "substeps = int(1 / 60 // dt) #1/120\n",
    "gravity = ti.Vector([0, -9.8, 0])\n",
    "\n",
    "init_mesh_indices()\n",
    "\n",
    "@ti.kernel\n",
    "def init_points():\n",
    "    init_net()\n",
    "    init_shackles()\n",
    "    init_rope_low_bearing()\n",
    "    init_rope_up_bearing()\n",
    "    init_rope_upslope()\n",
    "    init_ball(ti.Vector([2.5, 15, 1.5]), ti.Vector([0.0, 0.0, 0.0]))\n",
    "\n",
    "init_points()\n",
    "\n",
    "\n",
    "# Step\n",
    "\n",
    "\n",
    "@ti.kernel\n",
    "def update_vertices():\n",
    "    update_net_vertices()\n",
    "    update_shackle_vertices()\n",
    "    update_rope_vertices()\n",
    "\n",
    "update_vertices()"
   ]
  },
  {
   "cell_type": "code",
   "execution_count": null,
   "metadata": {},
   "outputs": [],
   "source": [
    "# lower bearing rope\n",
    "length_lb_horizontal = net_width * 3\n",
    "length_lb_angled = ti.sqrt(b**2 + f**2)\n",
    "num_elements_lb_horizontal = round(length_lb_horizontal * 10)\n",
    "num_elements_lb_angled = round(length_lb_angled * 10)\n",
    "\n",
    "@ti.func\n",
    "def init_rope_up_bearing():\n",
    "    rid = 1\n",
    "    start_pos = ti.Vector([-b, 0.0, 0.0])\n",
    "    direction_angled_up = ti.Vector([b, 0, f])\n",
    "    direction_horizontal = ti.Vector([net_width * 3, 0, 0])\n",
    "    direction_angled_down = ti.Vector([b, 0, -f])\n",
    "    for i in ti.ndrange((num_elements_lb_angled)):\n",
    "        x_rope[rid, i] = start_pos + (i * 0.1 * direction_angled_up.normalized())\n",
    "        v_rope[rid, i] = ti.Vector([0, 0, 0])\n",
    "    offset = num_elements_lb_angled\n",
    "    for i in ti.ndrange((num_elements_lb_horizontal)):\n",
    "        x_rope[rid, offset + i] = ti.Vector([0.0, 0.0, f]) + (i * 0.1 * direction_horizontal.normalized())\n",
    "        v_rope[rid, offset + i] = ti.Vector([0, 0, 0])\n",
    "    offset += num_elements_lb_horizontal\n",
    "    for i in ti.ndrange((num_elements_lb_angled)):\n",
    "        x_rope[rid, offset + i] = ti.Vector([(net_width * 3), 0.0, f]) + (i * 0.1 * direction_angled_down.normalized())\n",
    "        v_rope[rid, offset + i] = ti.Vector([0, 0, 0])"
   ]
  },
  {
   "cell_type": "code",
   "execution_count": 5,
   "metadata": {},
   "outputs": [
    {
     "data": {
      "text/plain": [
       "[ 0.38812203  0.77624405 -0.4967962 ]"
      ]
     },
     "execution_count": 5,
     "metadata": {},
     "output_type": "execute_result"
    }
   ],
   "source": [
    "ti.Vector([a/2, h, -(L + f)]).normalized()"
   ]
  },
  {
   "cell_type": "code",
   "execution_count": 6,
   "metadata": {},
   "outputs": [
    {
     "data": {
      "text/plain": [
       "57.38075692880717"
      ]
     },
     "execution_count": 6,
     "metadata": {},
     "output_type": "execute_result"
    }
   ],
   "source": [
    "math.degrees(alfa)"
   ]
  },
  {
   "cell_type": "code",
   "execution_count": 7,
   "metadata": {},
   "outputs": [
    {
     "data": {
      "text/plain": [
       "22.837696823662164"
      ]
     },
     "execution_count": 7,
     "metadata": {},
     "output_type": "execute_result"
    }
   ],
   "source": [
    "math.degrees(beta)"
   ]
  },
  {
   "cell_type": "code",
   "execution_count": 8,
   "metadata": {},
   "outputs": [
    {
     "data": {
      "text/plain": [
       "0.0"
      ]
     },
     "execution_count": 8,
     "metadata": {},
     "output_type": "execute_result"
    }
   ],
   "source": [
    "math.degrees(epsilon)"
   ]
  },
  {
   "cell_type": "code",
   "execution_count": 17,
   "metadata": {},
   "outputs": [
    {
     "data": {
      "text/plain": [
       "5.64231217849888"
      ]
     },
     "execution_count": 17,
     "metadata": {},
     "output_type": "execute_result"
    }
   ],
   "source": [
    "(net_width + f) / ti.sin(pi/2 - beta)"
   ]
  },
  {
   "cell_type": "code",
   "execution_count": 18,
   "metadata": {},
   "outputs": [
    {
     "data": {
      "text/plain": [
       "5.5901699437494745"
      ]
     },
     "execution_count": 18,
     "metadata": {},
     "output_type": "execute_result"
    }
   ],
   "source": [
    "ti.sqrt((a/2)**2 + h**2)"
   ]
  },
  {
   "cell_type": "code",
   "execution_count": 5,
   "metadata": {},
   "outputs": [
    {
     "data": {
      "text/plain": [
       "56.4231217849888"
      ]
     },
     "execution_count": 5,
     "metadata": {},
     "output_type": "execute_result"
    }
   ],
   "source": [
    "length_upslope = (net_width + f) / ti.sin(pi/2 - beta) #+ 1 # ti.sqrt((a/2)**2 + h**2)\n",
    "num_elements_upslope = (length_upslope * 10)\n",
    "num_elements_upslope"
   ]
  },
  {
   "cell_type": "code",
   "execution_count": 14,
   "metadata": {},
   "outputs": [],
   "source": [
    "length_upslope = ti.sqrt((a/2)**2 + h**2)\n",
    "num_elements_upslope = round(length_upslope * 10)"
   ]
  },
  {
   "cell_type": "code",
   "execution_count": 6,
   "metadata": {},
   "outputs": [
    {
     "data": {
      "text/plain": [
       "5.64231217849888"
      ]
     },
     "execution_count": 6,
     "metadata": {},
     "output_type": "execute_result"
    }
   ],
   "source": [
    "length_upslope\n"
   ]
  },
  {
   "cell_type": "code",
   "execution_count": 16,
   "metadata": {},
   "outputs": [
    {
     "data": {
      "text/plain": [
       "56"
      ]
     },
     "execution_count": 16,
     "metadata": {},
     "output_type": "execute_result"
    }
   ],
   "source": [
    "num_elements_upslope"
   ]
  },
  {
   "cell_type": "code",
   "execution_count": 12,
   "metadata": {},
   "outputs": [
    {
     "data": {
      "text/plain": [
       "0.5403539364174444"
      ]
     },
     "execution_count": 12,
     "metadata": {},
     "output_type": "execute_result"
    }
   ],
   "source": [
    "math.radians(30.96)"
   ]
  },
  {
   "cell_type": "code",
   "execution_count": 2,
   "metadata": {},
   "outputs": [
    {
     "name": "stdout",
     "output_type": "stream",
     "text": [
      "[[ 0.          0.          3.        ]\n",
      " [ 0.03881221  0.10014831  2.9078393 ]\n",
      " [ 0.07762442  0.20029663  2.8156784 ]\n",
      " [ 0.11643663  0.30044493  2.7235177 ]\n",
      " [ 0.15524884  0.40059325  2.6313567 ]\n",
      " [ 0.19406104  0.50074154  2.539196  ]\n",
      " [ 0.23287326  0.60088986  2.447035  ]\n",
      " [ 0.27168545  0.7010382   2.3548744 ]\n",
      " [ 0.31049767  0.8011865   2.2627134 ]\n",
      " [ 0.3493099   0.9013348   2.1705527 ]\n",
      " [ 0.38812208  1.0014831   2.0783918 ]\n",
      " [ 0.4269343   1.1016314   1.9862311 ]\n",
      " [ 0.46574652  1.2017797   1.8940703 ]\n",
      " [ 0.50455874  1.301928    1.8019094 ]\n",
      " [ 0.5433709   1.4020764   1.7097486 ]\n",
      " [ 0.5821831   1.5022247   1.6175878 ]\n",
      " [ 0.62099534  1.602373    1.525427  ]\n",
      " [ 0.65980756  1.7025213   1.4332662 ]\n",
      " [ 0.6986198   1.8026696   1.3411053 ]\n",
      " [ 0.73743194  1.902818    1.2489445 ]\n",
      " [ 0.77624416  2.0029662   1.1567837 ]\n",
      " [ 0.8150564   2.1031146   1.0646229 ]\n",
      " [ 0.8538686   2.2032628   0.9724622 ]\n",
      " [ 0.8926808   2.3034112   0.88030124]\n",
      " [ 0.93149304  2.4035594   0.78814054]\n",
      " [ 0.9703052   2.503708    0.6959796 ]\n",
      " [ 1.0091175   2.603856    0.6038189 ]\n",
      " [ 1.0479296   2.7040045   0.51165795]\n",
      " [ 1.0867418   2.8041527   0.41949725]\n",
      " [ 1.1255541   2.9043012   0.3273363 ]\n",
      " [ 1.1643662   3.0044494   0.23517561]\n",
      " [ 1.2031785   3.1045978   0.14301467]\n",
      " [ 1.2419907   3.204746    0.05085397]\n",
      " [ 1.2808028   3.3048942  -0.04130673]\n",
      " [ 1.3196151   3.4050426  -0.13346767]\n",
      " [ 1.3584273   3.5051908  -0.22562838]\n",
      " [ 1.3972396   3.6053393  -0.31778932]\n",
      " [ 1.4360517   3.7054875  -0.40995002]\n",
      " [ 1.4748639   3.805636   -0.50211096]\n",
      " [ 1.5136762   3.9057841  -0.59427166]\n",
      " [ 1.5524883   4.0059323  -0.6864326 ]\n",
      " [ 1.5913006   4.106081   -0.7785933 ]\n",
      " [ 1.6301128   4.206229   -0.87075424]\n",
      " [ 1.6689249   4.3063774  -0.96291494]\n",
      " [ 1.7077372   4.4065256  -1.0550756 ]\n",
      " [ 1.7465494   4.5066743  -1.1472368 ]\n",
      " [ 1.7853616   4.6068225  -1.2393975 ]\n",
      " [ 1.8241738   4.7069707  -1.3315582 ]\n",
      " [ 1.8629861   4.807119   -1.4237189 ]\n",
      " [ 1.9017982   4.907267   -1.5158796 ]\n",
      " [ 1.9406104   5.007416   -1.6080408 ]\n",
      " [ 1.9794227   5.107564   -1.7002015 ]\n",
      " [ 2.018235    5.207712   -1.7923622 ]\n",
      " [ 2.0570471   5.3078604  -1.8845229 ]\n",
      " [ 2.0958593   5.408009   -1.9766841 ]\n",
      " [ 2.1346714   5.5081573  -2.0688448 ]\n",
      " [ 0.          0.          0.        ]\n",
      " [ 0.          0.          0.        ]\n",
      " [ 0.          0.          0.        ]\n",
      " [ 0.          0.          0.        ]\n",
      " [ 0.          0.          0.        ]\n",
      " [ 0.          0.          0.        ]\n",
      " [ 0.          0.          0.        ]\n",
      " [ 0.          0.          0.        ]\n",
      " [ 0.          0.          0.        ]\n",
      " [ 0.          0.          0.        ]\n",
      " [ 0.          0.          0.        ]\n",
      " [ 0.          0.          0.        ]\n",
      " [ 0.          0.          0.        ]\n",
      " [ 0.          0.          0.        ]\n",
      " [ 0.          0.          0.        ]\n",
      " [ 0.          0.          0.        ]\n",
      " [ 0.          0.          0.        ]\n",
      " [ 0.          0.          0.        ]\n",
      " [ 0.          0.          0.        ]\n",
      " [ 0.          0.          0.        ]\n",
      " [ 0.          0.          0.        ]\n",
      " [ 0.          0.          0.        ]\n",
      " [ 0.          0.          0.        ]\n",
      " [ 0.          0.          0.        ]\n",
      " [ 0.          0.          0.        ]\n",
      " [ 0.          0.          0.        ]\n",
      " [ 0.          0.          0.        ]\n",
      " [ 0.          0.          0.        ]\n",
      " [ 0.          0.          0.        ]\n",
      " [ 0.          0.          0.        ]\n",
      " [ 0.          0.          0.        ]\n",
      " [ 0.          0.          0.        ]\n",
      " [ 0.          0.          0.        ]\n",
      " [ 0.          0.          0.        ]\n",
      " [ 0.          0.          0.        ]\n",
      " [ 0.          0.          0.        ]\n",
      " [ 0.          0.          0.        ]\n",
      " [ 0.          0.          0.        ]\n",
      " [ 0.          0.          0.        ]\n",
      " [ 0.          0.          0.        ]\n",
      " [ 0.          0.          0.        ]\n",
      " [ 0.          0.          0.        ]\n",
      " [ 0.          0.          0.        ]\n",
      " [ 0.          0.          0.        ]\n",
      " [ 0.          0.          0.        ]\n",
      " [ 0.          0.          0.        ]\n",
      " [ 0.          0.          0.        ]\n",
      " [ 0.          0.          0.        ]\n",
      " [ 0.          0.          0.        ]\n",
      " [ 0.          0.          0.        ]\n",
      " [ 0.          0.          0.        ]\n",
      " [ 0.          0.          0.        ]\n",
      " [ 0.          0.          0.        ]\n",
      " [ 0.          0.          0.        ]\n",
      " [ 0.          0.          0.        ]\n",
      " [ 0.          0.          0.        ]\n",
      " [ 0.          0.          0.        ]\n",
      " [ 0.          0.          0.        ]\n",
      " [ 0.          0.          0.        ]\n",
      " [ 0.          0.          0.        ]\n",
      " [ 0.          0.          0.        ]\n",
      " [ 0.          0.          0.        ]\n",
      " [ 0.          0.          0.        ]\n",
      " [ 0.          0.          0.        ]\n",
      " [ 0.          0.          0.        ]\n",
      " [ 0.          0.          0.        ]\n",
      " [ 0.          0.          0.        ]\n",
      " [ 0.          0.          0.        ]\n",
      " [ 0.          0.          0.        ]\n",
      " [ 0.          0.          0.        ]\n",
      " [ 0.          0.          0.        ]\n",
      " [ 0.          0.          0.        ]\n",
      " [ 0.          0.          0.        ]\n",
      " [ 0.          0.          0.        ]\n",
      " [ 0.          0.          0.        ]\n",
      " [ 0.          0.          0.        ]\n",
      " [ 0.          0.          0.        ]\n",
      " [ 0.          0.          0.        ]\n",
      " [ 0.          0.          0.        ]\n",
      " [ 0.          0.          0.        ]\n",
      " [ 0.          0.          0.        ]\n",
      " [ 0.          0.          0.        ]\n",
      " [ 0.          0.          0.        ]\n",
      " [ 0.          0.          0.        ]\n",
      " [ 0.          0.          0.        ]\n",
      " [ 0.          0.          0.        ]\n",
      " [ 0.          0.          0.        ]\n",
      " [ 0.          0.          0.        ]\n",
      " [ 0.          0.          0.        ]\n",
      " [ 0.          0.          0.        ]\n",
      " [ 0.          0.          0.        ]\n",
      " [ 0.          0.          0.        ]\n",
      " [ 0.          0.          0.        ]\n",
      " [ 0.          0.          0.        ]\n",
      " [ 0.          0.          0.        ]\n",
      " [ 0.          0.          0.        ]\n",
      " [ 0.          0.          0.        ]\n",
      " [ 0.          0.          0.        ]\n",
      " [ 0.          0.          0.        ]\n",
      " [ 0.          0.          0.        ]\n",
      " [ 0.          0.          0.        ]\n",
      " [ 0.          0.          0.        ]\n",
      " [ 0.          0.          0.        ]\n",
      " [ 0.          0.          0.        ]\n",
      " [ 0.          0.          0.        ]\n",
      " [ 0.          0.          0.        ]\n",
      " [ 0.          0.          0.        ]\n",
      " [ 0.          0.          0.        ]\n",
      " [ 0.          0.          0.        ]\n",
      " [ 0.          0.          0.        ]\n",
      " [ 0.          0.          0.        ]\n",
      " [ 0.          0.          0.        ]\n",
      " [ 0.          0.          0.        ]\n",
      " [ 0.          0.          0.        ]\n",
      " [ 0.          0.          0.        ]\n",
      " [ 0.          0.          0.        ]\n",
      " [ 0.          0.          0.        ]\n",
      " [ 0.          0.          0.        ]\n",
      " [ 0.          0.          0.        ]\n",
      " [ 0.          0.          0.        ]\n",
      " [ 0.          0.          0.        ]\n",
      " [ 0.          0.          0.        ]\n",
      " [ 0.          0.          0.        ]\n",
      " [ 0.          0.          0.        ]\n",
      " [ 0.          0.          0.        ]\n",
      " [ 0.          0.          0.        ]\n",
      " [ 0.          0.          0.        ]\n",
      " [ 0.          0.          0.        ]\n",
      " [ 0.          0.          0.        ]\n",
      " [ 0.          0.          0.        ]\n",
      " [ 0.          0.          0.        ]\n",
      " [ 0.          0.          0.        ]\n",
      " [ 0.          0.          0.        ]\n",
      " [ 0.          0.          0.        ]\n",
      " [ 0.          0.          0.        ]\n",
      " [ 0.          0.          0.        ]\n",
      " [ 0.          0.          0.        ]\n",
      " [ 0.          0.          0.        ]\n",
      " [ 0.          0.          0.        ]\n",
      " [ 0.          0.          0.        ]\n",
      " [ 0.          0.          0.        ]\n",
      " [ 0.          0.          0.        ]\n",
      " [ 0.          0.          0.        ]\n",
      " [ 0.          0.          0.        ]\n",
      " [ 0.          0.          0.        ]\n",
      " [ 0.          0.          0.        ]\n",
      " [ 0.          0.          0.        ]\n",
      " [ 0.          0.          0.        ]\n",
      " [ 0.          0.          0.        ]\n",
      " [ 0.          0.          0.        ]\n",
      " [ 0.          0.          0.        ]\n",
      " [ 0.          0.          0.        ]\n",
      " [ 0.          0.          0.        ]\n",
      " [ 0.          0.          0.        ]\n",
      " [ 0.          0.          0.        ]\n",
      " [ 0.          0.          0.        ]\n",
      " [ 0.          0.          0.        ]\n",
      " [ 0.          0.          0.        ]\n",
      " [ 0.          0.          0.        ]\n",
      " [ 0.          0.          0.        ]\n",
      " [ 0.          0.          0.        ]\n",
      " [ 0.          0.          0.        ]\n",
      " [ 0.          0.          0.        ]\n",
      " [ 0.          0.          0.        ]\n",
      " [ 0.          0.          0.        ]\n",
      " [ 0.          0.          0.        ]\n",
      " [ 0.          0.          0.        ]\n",
      " [ 0.          0.          0.        ]\n",
      " [ 0.          0.          0.        ]\n",
      " [ 0.          0.          0.        ]\n",
      " [ 0.          0.          0.        ]\n",
      " [ 0.          0.          0.        ]\n",
      " [ 0.          0.          0.        ]\n",
      " [ 0.          0.          0.        ]\n",
      " [ 0.          0.          0.        ]\n",
      " [ 0.          0.          0.        ]\n",
      " [ 0.          0.          0.        ]\n",
      " [ 0.          0.          0.        ]\n",
      " [ 0.          0.          0.        ]\n",
      " [ 0.          0.          0.        ]\n",
      " [ 0.          0.          0.        ]\n",
      " [ 0.          0.          0.        ]\n",
      " [ 0.          0.          0.        ]\n",
      " [ 0.          0.          0.        ]\n",
      " [ 0.          0.          0.        ]\n",
      " [ 0.          0.          0.        ]\n",
      " [ 0.          0.          0.        ]\n",
      " [ 0.          0.          0.        ]\n",
      " [ 0.          0.          0.        ]\n",
      " [ 0.          0.          0.        ]\n",
      " [ 0.          0.          0.        ]\n",
      " [ 0.          0.          0.        ]\n",
      " [ 0.          0.          0.        ]\n",
      " [ 0.          0.          0.        ]\n",
      " [ 0.          0.          0.        ]\n",
      " [ 0.          0.          0.        ]\n",
      " [ 0.          0.          0.        ]\n",
      " [ 0.          0.          0.        ]\n",
      " [ 0.          0.          0.        ]\n",
      " [ 0.          0.          0.        ]\n",
      " [ 0.          0.          0.        ]\n",
      " [ 0.          0.          0.        ]\n",
      " [ 0.          0.          0.        ]\n",
      " [ 0.          0.          0.        ]\n",
      " [ 0.          0.          0.        ]\n",
      " [ 0.          0.          0.        ]\n",
      " [ 0.          0.          0.        ]\n",
      " [ 0.          0.          0.        ]\n",
      " [ 0.          0.          0.        ]\n",
      " [ 0.          0.          0.        ]\n",
      " [ 0.          0.          0.        ]\n",
      " [ 0.          0.          0.        ]\n",
      " [ 0.          0.          0.        ]\n",
      " [ 0.          0.          0.        ]\n",
      " [ 0.          0.          0.        ]\n",
      " [ 0.          0.          0.        ]\n",
      " [ 0.          0.          0.        ]\n",
      " [ 0.          0.          0.        ]\n",
      " [ 0.          0.          0.        ]\n",
      " [ 0.          0.          0.        ]\n",
      " [ 0.          0.          0.        ]\n",
      " [ 0.          0.          0.        ]\n",
      " [ 0.          0.          0.        ]\n",
      " [ 0.          0.          0.        ]\n",
      " [ 0.          0.          0.        ]\n",
      " [ 0.          0.          0.        ]\n",
      " [ 0.          0.          0.        ]\n",
      " [ 0.          0.          0.        ]\n",
      " [ 0.          0.          0.        ]\n",
      " [ 0.          0.          0.        ]\n",
      " [ 0.          0.          0.        ]\n",
      " [ 0.          0.          0.        ]\n",
      " [ 0.          0.          0.        ]\n",
      " [ 0.          0.          0.        ]\n",
      " [ 0.          0.          0.        ]\n",
      " [ 0.          0.          0.        ]\n",
      " [ 0.          0.          0.        ]\n",
      " [ 0.          0.          0.        ]\n",
      " [ 0.          0.          0.        ]\n",
      " [ 0.          0.          0.        ]\n",
      " [ 0.          0.          0.        ]\n",
      " [ 0.          0.          0.        ]\n",
      " [ 0.          0.          0.        ]\n",
      " [ 0.          0.          0.        ]]\n"
     ]
    }
   ],
   "source": [
    "x_rope_np = x_rope.to_numpy()\n",
    "print(x_rope_np[2])"
   ]
  },
  {
   "cell_type": "code",
   "execution_count": 3,
   "metadata": {},
   "outputs": [
    {
     "name": "stdout",
     "output_type": "stream",
     "text": [
      "[[-2.   0.   0. ]\n",
      " [-1.9  0.   0. ]\n",
      " [-1.8  0.   0. ]\n",
      " ...\n",
      " [ 0.   0.   0. ]\n",
      " [ 0.   0.   0. ]\n",
      " [ 0.   0.   0. ]]\n"
     ]
    }
   ],
   "source": [
    "rope_vertices_np = rope_vertices.to_numpy()\n",
    "print(rope_vertices_np)"
   ]
  },
  {
   "cell_type": "code",
   "execution_count": 5,
   "metadata": {},
   "outputs": [],
   "source": [
    "length_upslope = (a/2) / ti.sin(beta)\n",
    "num_elements_upslope = round(length_upslope * 10)"
   ]
  },
  {
   "cell_type": "code",
   "execution_count": null,
   "metadata": {},
   "outputs": [
    {
     "ename": "",
     "evalue": "",
     "output_type": "error",
     "traceback": [
      "\u001b[1;31mCannot execute code, session has been disposed. Please try restarting the Kernel."
     ]
    },
    {
     "ename": "",
     "evalue": "",
     "output_type": "error",
     "traceback": [
      "\u001b[1;31mThe Kernel crashed while executing code in the the current cell or a previous cell. Please review the code in the cell(s) to identify a possible cause of the failure. Click <a href='https://aka.ms/vscodeJupyterKernelCrash'>here</a> for more info. View Jupyter <a href='command:jupyter.viewOutput'>log</a> for further details."
     ]
    }
   ],
   "source": [
    "# Scene rendering\n",
    "window = ti.ui.Window(\"Taichi Cloth Simulation on GGUI\", (1024, 1024), vsync=True)\n",
    "canvas = window.get_canvas()\n",
    "#canvas.set_background_color((1, 1, 1))\n",
    "scene = ti.ui.Scene()\n",
    "camera = ti.ui.Camera()\n",
    "current_t = 0.0\n",
    "\n",
    "while window.running:\n",
    "    # if current_t > 7.5:\n",
    "    #     # Reset\n",
    "    #     init_points()\n",
    "    #     current_t = 0\n",
    "\n",
    "    # for i in range(substeps):\n",
    "    #     #substep()\n",
    "    #     current_t += dt\n",
    "    #update_boundary_nodes()\n",
    "    #update_vertices()\n",
    "\n",
    "    camera.position(20, 10, 40) #20, 10, 40\n",
    "    camera.lookat(7.5, 0.0, 1.5) #7.5, 0.0, 1.5\n",
    "    scene.set_camera(camera)\n",
    "\n",
    "    scene.point_light(pos=(0, 1, 2), color=(1, 1, 1))\n",
    "    scene.ambient_light((0.5, 0.5, 0.5))\n",
    "    scene.mesh(net_vertices_1,\n",
    "               indices=net_indices,\n",
    "               per_vertex_color=net_colors,\n",
    "               two_sided=True)\n",
    "    scene.mesh(net_vertices_2,\n",
    "               indices=net_indices,\n",
    "               per_vertex_color=net_colors,\n",
    "               two_sided=True)\n",
    "    scene.mesh(net_vertices_3,\n",
    "               indices=net_indices,\n",
    "               per_vertex_color=net_colors,\n",
    "               two_sided=True)\n",
    "    scene.particles(x_ball, radius=ball_radius * 0.95, color=(1, 0, 0))\n",
    "    scene.particles(shakle_vertices_1, radius=0.05, color=(0, 0, 1))\n",
    "    scene.particles(shakle_vertices_2, radius=0.05, color=(0, 0, 1))\n",
    "    scene.particles(shakle_vertices_3, radius=0.05, color=(0, 0, 1))\n",
    "    scene.lines(rope_vertices, color=(0, 1, 0), width=2) #(0.5, 0.5, 0.5)\n",
    "    \n",
    "    canvas.scene(scene)\n",
    "    window.show()"
   ]
  }
 ],
 "metadata": {
  "kernelspec": {
   "display_name": "SSSN",
   "language": "python",
   "name": "python3"
  },
  "language_info": {
   "codemirror_mode": {
    "name": "ipython",
    "version": 3
   },
   "file_extension": ".py",
   "mimetype": "text/x-python",
   "name": "python",
   "nbconvert_exporter": "python",
   "pygments_lexer": "ipython3",
   "version": "3.11.3"
  },
  "orig_nbformat": 4
 },
 "nbformat": 4,
 "nbformat_minor": 2
}
